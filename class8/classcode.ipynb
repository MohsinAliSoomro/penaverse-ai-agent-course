{
 "cells": [
  {
   "cell_type": "markdown",
   "metadata": {},
   "source": [
    "*italicized text*# Function type\n",
    "- Parameter\n",
    "- Parameter less\n",
    "- Without return\n",
    "- With return"
   ]
  },
  {
   "cell_type": "code",
   "execution_count": 1,
   "metadata": {},
   "outputs": [],
   "source": [
    "\n",
    "# positional argument\n",
    "def sum(a:int,b:int)->int:\n",
    "   return a+b"
   ]
  },
  {
   "cell_type": "code",
   "execution_count": 2,
   "metadata": {},
   "outputs": [
    {
     "name": "stdout",
     "output_type": "stream",
     "text": [
      "20\n"
     ]
    }
   ],
   "source": [
    "total = sum(10,10)\n",
    "\n",
    "print(total)"
   ]
  },
  {
   "cell_type": "code",
   "execution_count": 3,
   "metadata": {},
   "outputs": [],
   "source": [
    "def greetings(firstName:str,lastName:str)-> None:\n",
    "   print(f\"first name {firstName} and last name {lastName}\")"
   ]
  },
  {
   "cell_type": "markdown",
   "metadata": {},
   "source": [
    "# Functions\n",
    "- sum(*args) will get bunch of args in type of tuple"
   ]
  },
  {
   "cell_type": "code",
   "execution_count": 4,
   "metadata": {},
   "outputs": [
    {
     "name": "stdout",
     "output_type": "stream",
     "text": [
      "(1, 21, 50, 20, 60)\n",
      "152\n"
     ]
    }
   ],
   "source": [
    "def sums(*args)->int:\n",
    "    print(args)\n",
    "    result=0\n",
    "    for arg in args:\n",
    "       result += arg\n",
    "    # return sum of numbers\n",
    "    return result\n",
    "\n",
    "total = sums(1,21,50,20,60)\n",
    "print(total)"
   ]
  },
  {
   "cell_type": "code",
   "execution_count": 5,
   "metadata": {},
   "outputs": [
    {
     "name": "stdout",
     "output_type": "stream",
     "text": [
      "(50, 60, 76, 44, 34, 36)\n",
      "300\n"
     ]
    }
   ],
   "source": [
    "\n",
    "list = [50,60,76,44,34,36]\n",
    "# list unpacking in function arg\n",
    "total = sums(*list)\n",
    "print(total)"
   ]
  },
  {
   "cell_type": "markdown",
   "metadata": {},
   "source": [
    "# Keyword argument"
   ]
  },
  {
   "cell_type": "code",
   "execution_count": 6,
   "metadata": {},
   "outputs": [
    {
     "name": "stdout",
     "output_type": "stream",
     "text": [
      "Greetings, name Ali and age 38\n",
      "Greetings, name 38 and age Ali\n"
     ]
    }
   ],
   "source": [
    "def greetings(name:str,age:int)->None:\n",
    "   print(f\"Greetings, name {name} and age {age}\")\n",
    "\n",
    "\n",
    "greetings(age=38,name=\"Ali\") # keywords value\n",
    "greetings(38,\"Ali\") # Without keywords"
   ]
  },
  {
   "cell_type": "markdown",
   "metadata": {},
   "source": [
    "# Default value"
   ]
  },
  {
   "cell_type": "code",
   "execution_count": 7,
   "metadata": {},
   "outputs": [
    {
     "name": "stdout",
     "output_type": "stream",
     "text": [
      "Greetings, name Alison and age 10\n"
     ]
    }
   ],
   "source": [
    "def greetings(name:str = \"Ali\",age:int = 10)->None:\n",
    "   print(f\"Greetings, name {name} and age {age}\")\n",
    "\n",
    "\n",
    "greetings(\"Alison\")"
   ]
  },
  {
   "cell_type": "markdown",
   "metadata": {},
   "source": [
    "- Multiple keywords arguments"
   ]
  },
  {
   "cell_type": "code",
   "execution_count": 8,
   "metadata": {},
   "outputs": [
    {
     "name": "stdout",
     "output_type": "stream",
     "text": [
      "ID 1001 roll no roll17 Name is Ali and age is 10\n"
     ]
    }
   ],
   "source": [
    "\n",
    "def greetings(*args,**keywords)->None:\n",
    "    name = keywords.get(\"name\")\n",
    "    age = keywords.get(\"age\")\n",
    "    print(f\"ID {args[0]} roll no {args[1]} Name is {name} and age is {age}\")\n",
    "\n",
    "\n",
    "greetings(\"1001\",\"roll17\",age= 10, name = \"Ali\")"
   ]
  },
  {
   "cell_type": "markdown",
   "metadata": {},
   "source": [
    "# scopes in python"
   ]
  },
  {
   "cell_type": "code",
   "execution_count": 9,
   "metadata": {},
   "outputs": [
    {
     "name": "stdout",
     "output_type": "stream",
     "text": [
      "a 7\n",
      "b 8\n",
      "None\n",
      " a 10 b 20\n"
     ]
    }
   ],
   "source": [
    "\n",
    "def learnscope(a:int,b:int):\n",
    "   print(f\"a {a}\")\n",
    "   print(f\"b {b}\")\n",
    "a = 10\n",
    "b = 20\n",
    "\n",
    "total =learnscope(7,8)\n",
    "print(total)\n",
    "print(f\" a {a} b {b}\")"
   ]
  },
  {
   "cell_type": "code",
   "execution_count": null,
   "metadata": {},
   "outputs": [],
   "source": [
    "a = 10\n",
    "b = 20\n",
    "def learnscope():\n",
    "   print(f\"a {a}\")\n",
    "   print(f\"b {b}\")\n",
    "\n",
    "\n",
    "total =learnscope()\n",
    "print(total)\n",
    "print(f\" a {a} b {b}\")"
   ]
  },
  {
   "cell_type": "code",
   "execution_count": null,
   "metadata": {},
   "outputs": [],
   "source": [
    "def greet():\n",
    "   name = \"Rehan\"\n",
    "   print(name)\n",
    "\n",
    "\n",
    "greet()"
   ]
  },
  {
   "cell_type": "code",
   "execution_count": 12,
   "metadata": {},
   "outputs": [
    {
     "name": "stdout",
     "output_type": "stream",
     "text": [
      "Run fun 1 Soomro\n",
      "Run fun 2 \n",
      "Soomro\n",
      "Ali\n"
     ]
    }
   ],
   "source": [
    "#\n",
    "name = \"Soomro\"\n",
    "def fun1():\n",
    "   # global name = \"Ali\"\n",
    "   global  name2\n",
    "   name2 = \"Ali\"\n",
    "   print(f\"Run fun 1 {name}\")\n",
    "\n",
    "def fun2():\n",
    "   print(\"Run fun 2 \")\n",
    "\n",
    "fun1()\n",
    "fun2()\n",
    "print(name)\n",
    "print(name2)"
   ]
  }
 ],
 "metadata": {
  "kernelspec": {
   "display_name": "Python 3",
   "language": "python",
   "name": "python3"
  },
  "language_info": {
   "codemirror_mode": {
    "name": "ipython",
    "version": 3
   },
   "file_extension": ".py",
   "mimetype": "text/x-python",
   "name": "python",
   "nbconvert_exporter": "python",
   "pygments_lexer": "ipython3",
   "version": "3.13.1"
  }
 },
 "nbformat": 4,
 "nbformat_minor": 2
}
