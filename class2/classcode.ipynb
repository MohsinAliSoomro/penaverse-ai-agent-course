{
 "cells": [
  {
   "cell_type": "code",
   "execution_count": null,
   "metadata": {},
   "outputs": [],
   "source": [
    "print(\"Hello world\")"
   ]
  },
  {
   "cell_type": "code",
   "execution_count": 1,
   "metadata": {},
   "outputs": [
    {
     "name": "stdout",
     "output_type": "stream",
     "text": [
      "Full name =afsda sf\n"
     ]
    }
   ],
   "source": [
    "firstName = input(\"Enter your firstName\")\n",
    "lastName = input(\"Last Name\")\n",
    "# concatenate\n",
    "\n",
    "print(\"Full name =\" +firstName +\" \"+lastName)"
   ]
  },
  {
   "cell_type": "code",
   "execution_count": null,
   "metadata": {},
   "outputs": [],
   "source": [
    "# f print for formating\n",
    "Name = \"Mohsin\"\n",
    "\n",
    "print(f\"Hello {Name}\" )"
   ]
  },
  {
   "cell_type": "code",
   "execution_count": null,
   "metadata": {},
   "outputs": [],
   "source": [
    "# comment here\n",
    "Sum = 12+ 12\n",
    "print(Sum)"
   ]
  },
  {
   "cell_type": "code",
   "execution_count": null,
   "metadata": {},
   "outputs": [],
   "source": [
    "\n",
    "# dock strin\n",
    "Text = \"\"\"dhhdhd\n",
    "Dndbsb\n",
    "Sbsb\n",
    "Bdbd\n",
    "\"\"\"\n",
    "\n",
    "print(Text)"
   ]
  },
  {
   "cell_type": "code",
   "execution_count": 2,
   "metadata": {},
   "outputs": [
    {
     "data": {
      "text/plain": [
       "'\\nMultiline comment\\n'"
      ]
     },
     "execution_count": 2,
     "metadata": {},
     "output_type": "execute_result"
    }
   ],
   "source": [
    "\n",
    "# this will not ignore by interpreter\n",
    "\"\"\"\n",
    "Multiline comment\n",
    "\"\"\""
   ]
  },
  {
   "cell_type": "code",
   "execution_count": 3,
   "metadata": {},
   "outputs": [
    {
     "name": "stdout",
     "output_type": "stream",
     "text": [
      "759\n"
     ]
    }
   ],
   "source": [
    "# new line to merge with first line\n",
    "Sum = 122+\\\n",
    "637\n",
    "print(Sum)"
   ]
  },
  {
   "cell_type": "code",
   "execution_count": 5,
   "metadata": {},
   "outputs": [
    {
     "name": "stdout",
     "output_type": "stream",
     "text": [
      " dishes beads\n"
     ]
    }
   ],
   "source": [
    "# escape sequence\n",
    "#print(\"back slash \")\n",
    "\n",
    "#print(\"first line \\n new line\")\n",
    "#print(\"first tab \\t new tab\")\n",
    "print(\"Rehan \\r dishes \\b beads\")"
   ]
  },
  {
   "cell_type": "code",
   "execution_count": 6,
   "metadata": {},
   "outputs": [
    {
     "name": "stdout",
     "output_type": "stream",
     "text": [
      "hellohellohellohello\n"
     ]
    }
   ],
   "source": [
    "# string multiplication\n",
    "print(\"hello\"*4)"
   ]
  },
  {
   "cell_type": "code",
   "execution_count": 7,
   "metadata": {},
   "outputs": [
    {
     "name": "stdout",
     "output_type": "stream",
     "text": [
      "Hello ASDFSF\n"
     ]
    }
   ],
   "source": [
    "\n",
    "StudentName= input(\"enter name\")\n",
    "#print(dir(StudentName)) print all methods of data type\n",
    "print(f\"Hello {StudentName.swapcase()}\")"
   ]
  },
  {
   "cell_type": "code",
   "execution_count": 8,
   "metadata": {},
   "outputs": [
    {
     "name": "stdout",
     "output_type": "stream",
     "text": [
      "['ali', 'Mohsin', 'khan']\n"
     ]
    }
   ],
   "source": [
    "list = [\"ali\",\"ali\",\"Mohsin\",\"khan\"]\n",
    "\n",
    "list.remove(\"ali\")\n",
    "\n",
    "print(list)"
   ]
  }
 ],
 "metadata": {
  "kernelspec": {
   "display_name": "Python 3",
   "language": "python",
   "name": "python3"
  },
  "language_info": {
   "codemirror_mode": {
    "name": "ipython",
    "version": 3
   },
   "file_extension": ".py",
   "mimetype": "text/x-python",
   "name": "python",
   "nbconvert_exporter": "python",
   "pygments_lexer": "ipython3",
   "version": "3.13.1"
  }
 },
 "nbformat": 4,
 "nbformat_minor": 2
}
