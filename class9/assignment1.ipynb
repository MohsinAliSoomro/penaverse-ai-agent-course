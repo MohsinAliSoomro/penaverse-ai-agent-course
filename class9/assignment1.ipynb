{
 "cells": [
  {
   "cell_type": "code",
   "execution_count": 3,
   "metadata": {},
   "outputs": [],
   "source": [
    "class Bank:\n",
    "  def __init__(self,name,balance):\n",
    "      self.name= name\n",
    "      self.balance = balance\n",
    "  def deposit(self,amount):\n",
    "      self.balance +=amount\n",
    "  \n",
    "  def withdraw(self,amount):\n",
    "    if self.balance > amount:\n",
    "      self.balance-=amount\n",
    "    else:\n",
    "      print(\"Not enough amount\")\n",
    "  \n",
    "  def get_balance(self):\n",
    "    print(f\"You have remain balance ${self.balance}\")\n",
    "\n",
    "  "
   ]
  },
  {
   "cell_type": "code",
   "execution_count": 4,
   "metadata": {},
   "outputs": [],
   "source": [
    "ali = Bank(\"Ali\",5000)\n",
    "soomro = Bank(\"Soomro\",50000)"
   ]
  },
  {
   "cell_type": "code",
   "execution_count": 13,
   "metadata": {},
   "outputs": [
    {
     "name": "stdout",
     "output_type": "stream",
     "text": [
      "You have remain balance $50000\n",
      "You have remain balance $9000\n"
     ]
    }
   ],
   "source": [
    "ali.get_balance()\n",
    "soomro.get_balance()"
   ]
  },
  {
   "cell_type": "code",
   "execution_count": 7,
   "metadata": {},
   "outputs": [],
   "source": [
    "ali.deposit(45000)"
   ]
  },
  {
   "cell_type": "code",
   "execution_count": 12,
   "metadata": {},
   "outputs": [],
   "source": [
    "soomro.withdraw(1000)"
   ]
  }
 ],
 "metadata": {
  "kernelspec": {
   "display_name": "Python 3",
   "language": "python",
   "name": "python3"
  },
  "language_info": {
   "codemirror_mode": {
    "name": "ipython",
    "version": 3
   },
   "file_extension": ".py",
   "mimetype": "text/x-python",
   "name": "python",
   "nbconvert_exporter": "python",
   "pygments_lexer": "ipython3",
   "version": "3.13.1"
  }
 },
 "nbformat": 4,
 "nbformat_minor": 2
}
