{
 "cells": [
  {
   "cell_type": "code",
   "execution_count": 1,
   "metadata": {},
   "outputs": [],
   "source": [
    "from abc import ABC, abstractmethod"
   ]
  },
  {
   "cell_type": "code",
   "execution_count": 2,
   "metadata": {},
   "outputs": [],
   "source": [
    "class Aminal(ABC):\n",
    "  def __init__(self,name):\n",
    "    self.name = name\n",
    "  \n",
    "  def walk(self):\n",
    "    pass\n",
    "\n",
    "  @abstractmethod\n",
    "  def make_sound(self):\n",
    "    pass"
   ]
  },
  {
   "cell_type": "code",
   "execution_count": 3,
   "metadata": {},
   "outputs": [
    {
     "name": "stdout",
     "output_type": "stream",
     "text": [
      "Tickle sound Meowwwwwww\n"
     ]
    }
   ],
   "source": [
    "class Cat(Aminal):\n",
    "  def __init__(self, name):\n",
    "    super().__init__(name)\n",
    "  \n",
    "  def make_sound(self):\n",
    "    print(f\"{self.name} sound Meowwwwwww\")\n",
    "  \n",
    "\n",
    "cat1 = Cat(\"Tickle\")\n",
    "cat1.make_sound()"
   ]
  },
  {
   "cell_type": "code",
   "execution_count": 7,
   "metadata": {},
   "outputs": [
    {
     "name": "stdout",
     "output_type": "stream",
     "text": [
      "Shaperd sound bark\n"
     ]
    }
   ],
   "source": [
    "class Dog(Aminal):\n",
    "  def __init__(self, name):\n",
    "    super().__init__(name)\n",
    "  def make_sound(self):\n",
    "    print(f\"{self.name} sound bark\")\n",
    "\n",
    "dog1 = Dog(\"Shaperd\")\n",
    "dog1.make_sound()"
   ]
  }
 ],
 "metadata": {
  "kernelspec": {
   "display_name": "Python 3",
   "language": "python",
   "name": "python3"
  },
  "language_info": {
   "codemirror_mode": {
    "name": "ipython",
    "version": 3
   },
   "file_extension": ".py",
   "mimetype": "text/x-python",
   "name": "python",
   "nbconvert_exporter": "python",
   "pygments_lexer": "ipython3",
   "version": "3.13.1"
  }
 },
 "nbformat": 4,
 "nbformat_minor": 2
}
