{
 "cells": [
  {
   "cell_type": "code",
   "execution_count": 148,
   "metadata": {},
   "outputs": [],
   "source": [
    "class Student:\n",
    "  def __init__(self):\n",
    "    self.students = {}\n",
    "\n",
    "  def add_student(self,rollNo:int,name:str):\n",
    "    if rollNo in self.students:\n",
    "      print(f\"Student with roll no numner {rollNo} already exists\")\n",
    "    else:\n",
    "      self.students[rollNo] = {rollNo,name}\n",
    "\n",
    "  def get_student_by_roll_no(self, rollNo:int):\n",
    "    st = self.students.get(rollNo)\n",
    "    if st is None:\n",
    "        print(f\"Student with roll no {rollNo} not found.\")\n",
    "    return st\n",
    "  \n",
    "  def update_student(self,rollNo,name):\n",
    "    if rollNo in self.students:\n",
    "      self.students[rollNo] = {rollNo,name}\n",
    "    else:\n",
    "      print(f\"Student with roll no {rollNo} not found\")\n",
    "\n",
    "  def remove_student(self,rollNo):\n",
    "    if rollNo in self.students:\n",
    "      del self.students[rollNo]\n",
    "    else:\n",
    "      print(f\"Student with roll no {rollNo} not found\")"
   ]
  },
  {
   "cell_type": "code",
   "execution_count": 149,
   "metadata": {},
   "outputs": [],
   "source": [
    "\n",
    "s1 = Student()\n",
    "\n",
    "s1.add_student(1001,\"Mohsin\")\n",
    "s1.add_student(1002,\"Ali\")\n",
    "s1.add_student(1003,\"Soomro\")\n",
    "\n"
   ]
  },
  {
   "cell_type": "code",
   "execution_count": 156,
   "metadata": {},
   "outputs": [
    {
     "name": "stdout",
     "output_type": "stream",
     "text": [
      "{1001: {1001, 'Mohsin'}, 1002: {1002, 'Ali'}, 1003: {1003, 'Soomro'}}\n"
     ]
    }
   ],
   "source": [
    "# s1.add_student(1003,\"Soomro\")\n",
    "print(s1.students)"
   ]
  },
  {
   "cell_type": "code",
   "execution_count": 140,
   "metadata": {},
   "outputs": [
    {
     "data": {
      "text/plain": [
       "{1001, 'Mohsin'}"
      ]
     },
     "execution_count": 140,
     "metadata": {},
     "output_type": "execute_result"
    }
   ],
   "source": [
    "s1.get_student_by_roll_no(1001)\n"
   ]
  },
  {
   "cell_type": "code",
   "execution_count": 155,
   "metadata": {},
   "outputs": [],
   "source": [
    "s1.update_student(1001,\"Mohsin\")"
   ]
  },
  {
   "cell_type": "code",
   "execution_count": null,
   "metadata": {},
   "outputs": [],
   "source": []
  }
 ],
 "metadata": {
  "kernelspec": {
   "display_name": "Python 3",
   "language": "python",
   "name": "python3"
  },
  "language_info": {
   "codemirror_mode": {
    "name": "ipython",
    "version": 3
   },
   "file_extension": ".py",
   "mimetype": "text/x-python",
   "name": "python",
   "nbconvert_exporter": "python",
   "pygments_lexer": "ipython3",
   "version": "3.13.1"
  }
 },
 "nbformat": 4,
 "nbformat_minor": 2
}
