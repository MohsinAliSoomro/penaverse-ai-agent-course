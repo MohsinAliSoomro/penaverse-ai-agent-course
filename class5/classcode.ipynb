{
 "cells": [
  {
   "cell_type": "code",
   "execution_count": 6,
   "metadata": {},
   "outputs": [],
   "source": [
    "from typing import List\n",
    "from typing import Dict\n",
    "from typing import Any"
   ]
  },
  {
   "cell_type": "code",
   "execution_count": 3,
   "metadata": {},
   "outputs": [],
   "source": [
    "fruits:List[str]= [\"Banana\", \"apple\"]"
   ]
  },
  {
   "cell_type": "code",
   "execution_count": 4,
   "metadata": {},
   "outputs": [
    {
     "name": "stdout",
     "output_type": "stream",
     "text": [
      "True\n"
     ]
    }
   ],
   "source": [
    "print(\"Banana\" in fruits)"
   ]
  },
  {
   "cell_type": "code",
   "execution_count": 15,
   "metadata": {},
   "outputs": [],
   "source": [
    "a:List[str]= [\"Banana\", \"apple\"]\n",
    "b=a\n",
    "c:List[str]= [\"Banana\", \"apple\"]"
   ]
  },
  {
   "cell_type": "code",
   "execution_count": 16,
   "metadata": {},
   "outputs": [
    {
     "name": "stdout",
     "output_type": "stream",
     "text": [
      "False\n",
      "True\n"
     ]
    }
   ],
   "source": [
    "\n",
    "#Identity verification\n",
    "print(a is c)\n",
    "# equality check\n",
    "print( a==c)"
   ]
  },
  {
   "cell_type": "code",
   "execution_count": 17,
   "metadata": {},
   "outputs": [
    {
     "name": "stdout",
     "output_type": "stream",
     "text": [
      "a address 4655248576\n",
      "b address 4655248576\n",
      "c address 4655248512\n"
     ]
    }
   ],
   "source": [
    "print(\"a address\",id(a) )\n",
    "print(\"b address\",id(b) )\n",
    "print(\"c address\",id(c) )"
   ]
  },
  {
   "cell_type": "markdown",
   "metadata": {},
   "source": [
    "# big O notation\n",
    "# time and space complexity"
   ]
  },
  {
   "cell_type": "code",
   "execution_count": 13,
   "metadata": {},
   "outputs": [
    {
     "name": "stdout",
     "output_type": "stream",
     "text": [
      "['__class__', '__class_getitem__', '__contains__', '__delattr__', '__delitem__', '__dir__', '__doc__', '__eq__', '__format__', '__ge__', '__getattribute__', '__getitem__', '__getstate__', '__gt__', '__hash__', '__init__', '__init_subclass__', '__ior__', '__iter__', '__le__', '__len__', '__lt__', '__ne__', '__new__', '__or__', '__reduce__', '__reduce_ex__', '__repr__', '__reversed__', '__ror__', '__setattr__', '__setitem__', '__sizeof__', '__str__', '__subclasshook__', 'clear', 'copy', 'fromkeys', 'get', 'items', 'keys', 'pop', 'popitem', 'setdefault', 'update', 'values']\n",
      "80\n",
      "{2: 80}\n"
     ]
    }
   ],
   "source": [
    "# dictionary\n",
    "# key value pair\n",
    "# key unique\n",
    "# key can be any data type that is immutable\n",
    "# immutable data type string int float boolean\n",
    "\n",
    "student_score = {\n",
    "   1:80,\n",
    "   2:80,\n",
    "}\n",
    "print(dir(student_score))\n",
    "print(student_score.pop(1))\n",
    "print(student_score)"
   ]
  },
  {
   "cell_type": "code",
   "execution_count": 19,
   "metadata": {},
   "outputs": [
    {
     "name": "stdout",
     "output_type": "stream",
     "text": [
      "2\n"
     ]
    }
   ],
   "source": [
    "student_scores = {\n",
    "   1:10,\n",
    "   2:100\n",
    "}\n",
    "print(len(student_scores))"
   ]
  },
  {
   "cell_type": "code",
   "execution_count": 31,
   "metadata": {},
   "outputs": [
    {
     "name": "stdout",
     "output_type": "stream",
     "text": [
      "{'brand': {'age': 19}, 'model': {'age': 21}, 'year': {'age': 49}}\n"
     ]
    }
   ],
   "source": [
    "# dictionary items\n",
    "thisdict: Dict[str, Dict[str,int] ] = {\n",
    "  \"brand\": { \"age\":19 },\n",
    "  \"model\": { \"age\":21 },\n",
    "  \"year\": { \"age\":49 }\n",
    "}\n",
    "print(thisdict)"
   ]
  },
  {
   "cell_type": "code",
   "execution_count": 22,
   "metadata": {},
   "outputs": [
    {
     "name": "stdout",
     "output_type": "stream",
     "text": [
      "{'age': 19}\n"
     ]
    }
   ],
   "source": [
    "# dictionary items get\n",
    "\n",
    "print(thisdict.get(\"brand\"))\n"
   ]
  },
  {
   "cell_type": "code",
   "execution_count": 29,
   "metadata": {},
   "outputs": [
    {
     "name": "stdout",
     "output_type": "stream",
     "text": [
      "None\n"
     ]
    }
   ],
   "source": [
    "# update documents\n",
    "\n",
    "print(thisdict.update({\"brand\" : { \"age\" : 21 }}))"
   ]
  },
  {
   "cell_type": "code",
   "execution_count": 30,
   "metadata": {},
   "outputs": [
    {
     "name": "stdout",
     "output_type": "stream",
     "text": [
      "{'brand': {'age': 21}, 'model': {'age': 21}, 'year': {'age': 49}, 'brand1': {'age': 50}}\n"
     ]
    }
   ],
   "source": [
    "print(thisdict)"
   ]
  }
 ],
 "metadata": {
  "kernelspec": {
   "display_name": "Python 3",
   "language": "python",
   "name": "python3"
  },
  "language_info": {
   "codemirror_mode": {
    "name": "ipython",
    "version": 3
   },
   "file_extension": ".py",
   "mimetype": "text/x-python",
   "name": "python",
   "nbconvert_exporter": "python",
   "pygments_lexer": "ipython3",
   "version": "3.13.1"
  }
 },
 "nbformat": 4,
 "nbformat_minor": 2
}
