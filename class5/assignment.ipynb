{
 "cells": [
  {
   "cell_type": "code",
   "execution_count": 1,
   "metadata": {},
   "outputs": [
    {
     "name": "stdout",
     "output_type": "stream",
     "text": [
      "\n",
      "       Student card ===>\n",
      "       Name = mohisn\n",
      "       Father name = asdf\n",
      "       RollNo = 1001\n",
      "       Math marks = 90\n",
      "       Computer marks = 90\n",
      "       English marks = 90\n",
      "       Chemistry marks = 90\n",
      "       Physics marks = 90\n",
      "\n"
     ]
    }
   ],
   "source": [
    "name:str = input(\"Enter name : \")\n",
    "fathername:str = input(\"Enter fathername : \")\n",
    "rollno:int = int(input(\"Enter roll number int : \"))\n",
    "math:int = int(input(\"Enter math marks (0: 100) : \"))\n",
    "physics:int = int(input(\"Enter math marks (0: 100) : \"))\n",
    "computer:int = int(input(\"Enter math marks (0: 100) : \"))\n",
    "english:int = int(input(\"Enter math marks (0: 100) : \"))\n",
    "chemistry:int = int(input(\"Enter math marks (0: 100) : \"))\n",
    "\n",
    "\n",
    "if not 0 < math < 100:\n",
    "  print(\"math invalid\")\n",
    "elif not 0< physics < 100:\n",
    "   print(\"physics invalid\")\n",
    "elif not 0< computer < 100:\n",
    "   print(\"computer invalid\")\n",
    "elif not 0< english < 100:\n",
    "    print(\"english invalid\")\n",
    "elif not 0< chemistry < 100:\n",
    "    print(\"chemistry invalid\")\n",
    "else:\n",
    "   print(f\"\"\"\n",
    "       Student card ===>\n",
    "       Name = {name}\n",
    "       Father name = {fathername}\n",
    "       RollNo = {rollno}\n",
    "       Math marks = {math}\n",
    "       Computer marks = {math}\n",
    "       English marks = {math}\n",
    "       Chemistry marks = {math}\n",
    "       Physics marks = {math}\n",
    "\"\"\")"
   ]
  }
 ],
 "metadata": {
  "kernelspec": {
   "display_name": "Python 3",
   "language": "python",
   "name": "python3"
  },
  "language_info": {
   "codemirror_mode": {
    "name": "ipython",
    "version": 3
   },
   "file_extension": ".py",
   "mimetype": "text/x-python",
   "name": "python",
   "nbconvert_exporter": "python",
   "pygments_lexer": "ipython3",
   "version": "3.13.1"
  }
 },
 "nbformat": 4,
 "nbformat_minor": 2
}
