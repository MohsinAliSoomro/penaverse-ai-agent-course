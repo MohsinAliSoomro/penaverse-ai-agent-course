{
 "cells": [
  {
   "cell_type": "code",
   "execution_count": 24,
   "metadata": {},
   "outputs": [],
   "source": [
    "from random import randint"
   ]
  },
  {
   "cell_type": "code",
   "execution_count": 26,
   "metadata": {},
   "outputs": [],
   "source": [
    "def user_input():\n",
    "    try:\n",
    "       return int(input(\"Guess a number between 1 and 5: \"))\n",
    "    except ValueError:\n",
    "        print(\"Please enter a valid number.\")\n",
    "        user_input()"
   ]
  },
  {
   "cell_type": "code",
   "execution_count": 27,
   "metadata": {},
   "outputs": [],
   "source": [
    "def result(number,random_number):\n",
    "   attemp_count = 0\n",
    "   while random_number != number:\n",
    "      # if user not guess run again\n",
    "      number = user_input()\n",
    "      attemp_count += 1\n",
    "\n",
    "   print(f\"You guessed it! You won! It took you {attemp_count} attemps.\")"
   ]
  },
  {
   "cell_type": "code",
   "execution_count": 28,
   "metadata": {},
   "outputs": [],
   "source": [
    "def guess_game():\n",
    "    random_number = randint(1,5)\n",
    "    print(f\"Welcome to the guessing game! The random number is: guess between 1 and 5\")\n",
    "    \n",
    "    # take a user input number\n",
    "    number = user_input()\n",
    "    result(number,random_number)\n"
   ]
  },
  {
   "cell_type": "code",
   "execution_count": 29,
   "metadata": {},
   "outputs": [
    {
     "name": "stdout",
     "output_type": "stream",
     "text": [
      "Welcome to the guessing game! The random number is: guess between 1 and 5\n",
      "Please enter a valid number.\n",
      "Please enter a valid number.\n",
      "Please enter a valid number.\n",
      "You guessed it! You won! It took you 3 attemps.\n"
     ]
    }
   ],
   "source": [
    "guess_game()"
   ]
  }
 ],
 "metadata": {
  "kernelspec": {
   "display_name": "Python 3",
   "language": "python",
   "name": "python3"
  },
  "language_info": {
   "codemirror_mode": {
    "name": "ipython",
    "version": 3
   },
   "file_extension": ".py",
   "mimetype": "text/x-python",
   "name": "python",
   "nbconvert_exporter": "python",
   "pygments_lexer": "ipython3",
   "version": "3.13.1"
  }
 },
 "nbformat": 4,
 "nbformat_minor": 2
}
