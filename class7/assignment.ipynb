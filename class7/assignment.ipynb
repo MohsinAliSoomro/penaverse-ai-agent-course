{
 "cells": [
  {
   "cell_type": "code",
   "execution_count": 10,
   "metadata": {},
   "outputs": [],
   "source": [
    "from random import randint"
   ]
  },
  {
   "cell_type": "code",
   "execution_count": 22,
   "metadata": {},
   "outputs": [],
   "source": [
    "def validInput(random_number,number):\n",
    "    while random_number != number:\n",
    "        try:\n",
    "            user_input = int(input(\"Enter a number: \"))\n",
    "            break\n",
    "        except ValueError:\n",
    "            print(\"Invalid input. Please enter a number.\")\n",
    "    return user_input"
   ]
  },
  {
   "cell_type": "code",
   "execution_count": 23,
   "metadata": {},
   "outputs": [],
   "source": [
    "def guess_game():\n",
    "    attemp_count = 0\n",
    "    random_number = randint(1,5)\n",
    "    print(f\"Welcome to the guessing game! The random number is: {random_number}\")\n",
    "    try:\n",
    "        number = int(input(\"Guess a number between 1 and 10: \"))\n",
    "    except ValueError:\n",
    "        print(\"Please enter a valid number.\")\n",
    "        number = int(input(\"Guess a number between 1 and 10: \"))\n",
    "    print(f\"Your guess was: {number}\")\n",
    "    validInput(random_number,number)\n",
    "    print(f\"You guessed it! You won! It took you {attemp_count} attemps.\")\n"
   ]
  },
  {
   "cell_type": "code",
   "execution_count": 24,
   "metadata": {},
   "outputs": [
    {
     "name": "stdout",
     "output_type": "stream",
     "text": [
      "Welcome to the guessing game! The random number is: 5\n",
      "Your guess was: 2\n",
      "You guessed it! You won! It took you 0 attemps.\n"
     ]
    }
   ],
   "source": [
    "guess_game()"
   ]
  }
 ],
 "metadata": {
  "kernelspec": {
   "display_name": "Python 3",
   "language": "python",
   "name": "python3"
  },
  "language_info": {
   "codemirror_mode": {
    "name": "ipython",
    "version": 3
   },
   "file_extension": ".py",
   "mimetype": "text/x-python",
   "name": "python",
   "nbconvert_exporter": "python",
   "pygments_lexer": "ipython3",
   "version": "3.13.1"
  }
 },
 "nbformat": 4,
 "nbformat_minor": 2
}
