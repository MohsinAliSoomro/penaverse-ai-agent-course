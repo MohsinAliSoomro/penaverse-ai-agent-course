{
 "cells": [
  {
   "cell_type": "code",
   "execution_count": 2,
   "metadata": {},
   "outputs": [],
   "source": [
    "from random import randint"
   ]
  },
  {
   "cell_type": "code",
   "execution_count": 1,
   "metadata": {},
   "outputs": [],
   "source": [
    "def guess_game():\n",
    "    attemp_count = 0\n",
    "    random_number = randint(1,5)\n",
    "    print(f\"Welcome to the guessing game! The random number is: guess between 1 and 5\")\n",
    "    try:\n",
    "        number = int(input(\"Guess a number between 1 and 5: \"))\n",
    "    except ValueError:\n",
    "        print(\"Please enter a valid number.\")\n",
    "        number = int(input(\"Guess a number between 1 and 5: \"))\n",
    "    print(f\"Your guess was: {number}\")\n",
    "    # Check if the number is correct\n",
    "    while random_number != number:\n",
    "        try:\n",
    "            number = int(input(\"Guess again: \"))\n",
    "        except ValueError:\n",
    "            print(\"Please enter a valid number.\")\n",
    "            number = int(input(\"Guess again: \"))\n",
    "        attemp_count += 1\n",
    "    print(f\"You guessed it! You won! It took you {attemp_count} attemps.\")\n"
   ]
  },
  {
   "cell_type": "code",
   "execution_count": 3,
   "metadata": {},
   "outputs": [
    {
     "name": "stdout",
     "output_type": "stream",
     "text": [
      "Welcome to the guessing game! The random number is: 4 guess between 1 and 5\n",
      "Your guess was: 2\n",
      "You guessed it! You won! It took you 2 attemps.\n"
     ]
    }
   ],
   "source": [
    "guess_game()"
   ]
  }
 ],
 "metadata": {
  "kernelspec": {
   "display_name": "Python 3",
   "language": "python",
   "name": "python3"
  },
  "language_info": {
   "codemirror_mode": {
    "name": "ipython",
    "version": 3
   },
   "file_extension": ".py",
   "mimetype": "text/x-python",
   "name": "python",
   "nbconvert_exporter": "python",
   "pygments_lexer": "ipython3",
   "version": "3.13.1"
  }
 },
 "nbformat": 4,
 "nbformat_minor": 2
}
